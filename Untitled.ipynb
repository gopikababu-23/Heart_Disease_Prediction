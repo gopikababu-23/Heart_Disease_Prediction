{
 "cells": [
  {
   "cell_type": "code",
   "execution_count": null,
   "id": "0724a546",
   "metadata": {},
   "outputs": [
    {
     "name": "stdout",
     "output_type": "stream",
     "text": [
      " * Serving Flask app '__main__'\n",
      " * Debug mode: off\n"
     ]
    },
    {
     "name": "stderr",
     "output_type": "stream",
     "text": [
      "WARNING: This is a development server. Do not use it in a production deployment. Use a production WSGI server instead.\n",
      " * Running on http://127.0.0.1:5000\n",
      "Press CTRL+C to quit\n",
      "127.0.0.1 - - [14/Jul/2023 12:54:03] \"GET / HTTP/1.1\" 200 -\n",
      "127.0.0.1 - - [14/Jul/2023 12:54:03] \"GET /static/style.css HTTP/1.1\" 200 -\n",
      "127.0.0.1 - - [14/Jul/2023 12:54:04] \"GET /favicon.ico HTTP/1.1\" 404 -\n",
      "C:\\Users\\S MOHAN BABU\\anaconda3\\lib\\site-packages\\sklearn\\base.py:420: UserWarning: X does not have valid feature names, but RandomForestClassifier was fitted with feature names\n",
      "  warnings.warn(\n",
      "127.0.0.1 - - [14/Jul/2023 12:55:34] \"POST /predict HTTP/1.1\" 200 -\n",
      "127.0.0.1 - - [14/Jul/2023 12:55:34] \"GET /static/style.css HTTP/1.1\" 304 -\n",
      "127.0.0.1 - - [14/Jul/2023 12:55:35] \"GET /static/diabetes-favicon.ico HTTP/1.1\" 404 -\n",
      "C:\\Users\\S MOHAN BABU\\anaconda3\\lib\\site-packages\\sklearn\\base.py:420: UserWarning: X does not have valid feature names, but RandomForestClassifier was fitted with feature names\n",
      "  warnings.warn(\n",
      "127.0.0.1 - - [14/Jul/2023 12:55:51] \"POST /predict HTTP/1.1\" 200 -\n",
      "127.0.0.1 - - [14/Jul/2023 12:55:51] \"GET /static/style.css HTTP/1.1\" 304 -\n",
      "C:\\Users\\S MOHAN BABU\\anaconda3\\lib\\site-packages\\sklearn\\base.py:420: UserWarning: X does not have valid feature names, but RandomForestClassifier was fitted with feature names\n",
      "  warnings.warn(\n",
      "127.0.0.1 - - [14/Jul/2023 13:00:37] \"POST /predict HTTP/1.1\" 200 -\n",
      "127.0.0.1 - - [14/Jul/2023 13:00:37] \"GET /static/style.css HTTP/1.1\" 304 -\n"
     ]
    }
   ],
   "source": [
    "# Importing essential libraries\n",
    "from flask import Flask, render_template, request\n",
    "import pickle\n",
    "import numpy as np\n",
    "\n",
    "# Load the Random Forest CLassifier model\n",
    "filename = 'model.pkl'\n",
    "model = pickle.load(open(filename, 'rb'))\n",
    "\n",
    "app = Flask(__name__)\n",
    "\n",
    "@app.route('/')\n",
    "def home():\n",
    "\treturn render_template('main.html')\n",
    "\n",
    "\n",
    "@app.route('/predict', methods=['GET','POST'])\n",
    "def predict():\n",
    "    if request.method == 'POST':\n",
    "\n",
    "        age = int(request.form['age'])\n",
    "        sex = request.form.get('sex')\n",
    "        cp = request.form.get('cp')\n",
    "        trestbps = int(request.form['trestbps'])\n",
    "        chol = int(request.form['chol'])\n",
    "        fbs = request.form.get('fbs')\n",
    "        restecg = int(request.form['restecg'])\n",
    "        thalach = int(request.form['thalach'])\n",
    "        exang = request.form.get('exang')\n",
    "        oldpeak = float(request.form['oldpeak'])\n",
    "        slope = request.form.get('slope')\n",
    "        ca = int(request.form['ca'])\n",
    "        thal = request.form.get('thal')\n",
    "        \n",
    "        data = np.array([[age,sex,cp,trestbps,chol,fbs,restecg,thalach,exang,oldpeak,slope,ca,thal]])\n",
    "        my_prediction = model.predict(data)\n",
    "        \n",
    "        return render_template('result.html', prediction=my_prediction)\n",
    "        \n",
    "        \n",
    "\n",
    "if __name__ == '__main__':\n",
    "\tapp.run()\n",
    "\n",
    "\n"
   ]
  },
  {
   "cell_type": "code",
   "execution_count": null,
   "id": "94642f84",
   "metadata": {},
   "outputs": [],
   "source": []
  }
 ],
 "metadata": {
  "kernelspec": {
   "display_name": "Python 3 (ipykernel)",
   "language": "python",
   "name": "python3"
  },
  "language_info": {
   "codemirror_mode": {
    "name": "ipython",
    "version": 3
   },
   "file_extension": ".py",
   "mimetype": "text/x-python",
   "name": "python",
   "nbconvert_exporter": "python",
   "pygments_lexer": "ipython3",
   "version": "3.10.9"
  }
 },
 "nbformat": 4,
 "nbformat_minor": 5
}
